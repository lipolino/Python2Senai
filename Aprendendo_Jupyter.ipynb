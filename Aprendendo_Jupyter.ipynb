{
 "cells": [
  {
   "cell_type": "markdown",
   "id": "7c21fa9d-1a99-40f3-ad8e-bd3355aa971d",
   "metadata": {},
   "source": [
    "# Conhecendo o Jupyter\n",
    "\n",
    "### **Jupyter:** Seu caderno de Códigos! Vamos conhecer uma ferramenta que vai turbinar seu código: O Jupyter Notebook"
   ]
  },
  {
   "cell_type": "markdown",
   "id": "f422ff04-87f4-4e93-ac91-e8283fb4af8c",
   "metadata": {},
   "source": [
    "Pense nele como um caderno interativo, onde a gente escreve código, mostra gráficos.. tudo no mesmo lugar! Ele salva tudo em um arquivo, com a extensão `.ipynb`"
   ]
  },
  {
   "cell_type": "markdown",
   "id": "ed6bf0d1-418a-44da-bb62-f4d1670e5b01",
   "metadata": {},
   "source": [
    "Por que usar o Jupyter?\n",
    "\n",
    "- Organização: Mistura código, explicações e resultados\n",
    "- Interatividade: Execute um pedaço de código e vejo o resultado na hora. Perfeito para *testar!*\n",
    "- Visualização: Seus gráficos aparecem ali mesmo, junto ao código.\n",
    "- Compartilhamento: Fácil de mostrar seu trabalho para todo mundo"
   ]
  },
  {
   "cell_type": "markdown",
   "id": "37efdfcf",
   "metadata": {},
   "source": [
    "# Exemplo de Código Python"
   ]
  },
  {
   "cell_type": "code",
   "execution_count": 1,
   "id": "5e2f0640",
   "metadata": {},
   "outputs": [
    {
     "name": "stdout",
     "output_type": "stream",
     "text": [
      "O meu nome completo é: Felipe Candido\n"
     ]
    }
   ],
   "source": [
    "nome = \"Felipe\"\n",
    "sobrenome = \"Candido\"\n",
    "\n",
    "nome_completo = nome + \" \" + sobrenome \n",
    "\n",
    "print(f\"O meu nome completo é: {nome_completo}\")"
   ]
  },
  {
   "cell_type": "markdown",
   "id": "8a0ab678",
   "metadata": {},
   "source": [
    "O código acima é um exemplo de como concatenar **strings**"
   ]
  },
  {
   "cell_type": "markdown",
   "id": "f601d7e6",
   "metadata": {},
   "source": [
    "# Tabela Verdade em python, operador And (E)\n",
    "\n",
    "~~~ python\n",
    "verdadeiro = True\n",
    "falso = False\n",
    "\n",
    "print(f\"Minha variável Verdadeiro tem: {verdadeiro}\")\n",
    "print(f\"Minha variável Falso tem: {falso}\")"
   ]
  },
  {
   "cell_type": "code",
   "execution_count": 2,
   "id": "ea87b1fc",
   "metadata": {},
   "outputs": [
    {
     "name": "stdout",
     "output_type": "stream",
     "text": [
      "Minha variável Verdadeiro tem: True\n",
      "Minha variável Falso tem: False\n"
     ]
    }
   ],
   "source": [
    "verdadeiro = True\n",
    "falso = False\n",
    "\n",
    "print(f\"Minha variável Verdadeiro tem: {verdadeiro}\")\n",
    "print(f\"Minha variável Falso tem: {falso}\")"
   ]
  },
  {
   "cell_type": "code",
   "execution_count": 6,
   "id": "9d2caad5",
   "metadata": {},
   "outputs": [
    {
     "name": "stdout",
     "output_type": "stream",
     "text": [
      "Tabela Verdade Operador And (E)\n",
      "------------------------------\n",
      "Verdadeiro e Verdadeiro: True\n",
      "Falso e Falso: False\n",
      "Falso e Verdadeiro: False\n",
      "Verdadeiro e Falso: False\n"
     ]
    }
   ],
   "source": [
    "print(\"Tabela Verdade Operador And (E)\")\n",
    "print(\"-\" * 30)\n",
    "print(f\"Verdadeiro e Verdadeiro:\", verdadeiro and verdadeiro)\n",
    "print(f\"Falso e Falso:\", falso and falso)\n",
    "print(f\"Falso e Verdadeiro:\", falso and verdadeiro)\n",
    "print(f\"Verdadeiro e Falso:\", verdadeiro and falso)"
   ]
  },
  {
   "cell_type": "markdown",
   "id": "02241763",
   "metadata": {},
   "source": [
    "# A Viagem perfeita\n",
    "\n",
    "Você só viaja se o dia tiver ensolarado e você tiver dinheiro\n",
    "\n",
    "Crie um código que use o operador (And) para verificar se ambas as condições (dia_ensolarado e tem_dinheiro) são verdadeiras.\n",
    "\n",
    "O programa deve imprimir \"Oba! Vamos viajar\" se sim, ou \"Que pena, a viagem terá que esperar\" se alguma opção for falsa."
   ]
  },
  {
   "cell_type": "code",
   "execution_count": 7,
   "id": "eb1175ac",
   "metadata": {},
   "outputs": [
    {
     "name": "stdout",
     "output_type": "stream",
     "text": [
      "Oba! Vamos viajar.\n"
     ]
    }
   ],
   "source": [
    "dia_ensolarado = True\n",
    "tem_dinheiro = True\n",
    "\n",
    "if dia_ensolarado and tem_dinheiro:\n",
    "    print(\"Oba! Vamos viajar.\")\n",
    "else:\n",
    "    print(\"Que pena, a viagem terá que esperar.\")"
   ]
  }
 ],
 "metadata": {
  "kernelspec": {
   "display_name": "Python 3",
   "language": "python",
   "name": "python3"
  },
  "language_info": {
   "codemirror_mode": {
    "name": "ipython",
    "version": 3
   },
   "file_extension": ".py",
   "mimetype": "text/x-python",
   "name": "python",
   "nbconvert_exporter": "python",
   "pygments_lexer": "ipython3",
   "version": "3.13.2"
  }
 },
 "nbformat": 4,
 "nbformat_minor": 5
}

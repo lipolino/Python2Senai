{
 "cells": [
  {
   "cell_type": "markdown",
   "metadata": {},
   "source": [
    "# Listas"
   ]
  },
  {
   "cell_type": "code",
   "execution_count": 31,
   "metadata": {},
   "outputs": [
    {
     "name": "stdout",
     "output_type": "stream",
     "text": [
      "[7, 8, 9]\n",
      "<class 'list'>\n",
      "<class 'list'>\n"
     ]
    }
   ],
   "source": [
    "nomeLista = []\n",
    "\n",
    "Z = [15,8,9]\n",
    "Z[0] = 7 # Alterando o valor do índice 0 de '15' para '7'\n",
    "\n",
    "exemplo = [10, 50, 5, 2, 100]\n",
    "Exemplo = ['Python', 'é', 'muito', 'bom', 'e fácil']\n",
    "\n",
    "print(Z)\n",
    "print(type(exemplo))\n",
    "print(type(Exemplo))"
   ]
  },
  {
   "cell_type": "markdown",
   "metadata": {},
   "source": [
    "### Declaração e inicialização de uma lista sequencial com o range, usando a função list()."
   ]
  },
  {
   "cell_type": "code",
   "execution_count": 10,
   "metadata": {},
   "outputs": [
    {
     "name": "stdout",
     "output_type": "stream",
     "text": [
      "[0, 1, 2, 3, 4, 5, 6, 7, 8, 9]\n",
      "['2', '3', '4', '5']\n"
     ]
    }
   ],
   "source": [
    "minhaLista = list(range(10))\n",
    "print(minhaLista)\n",
    "\n",
    "minhaLista2 = ['2', '3', '4', '5']\n",
    "print(minhaLista2)"
   ]
  },
  {
   "cell_type": "markdown",
   "metadata": {},
   "source": [
    "### Podemos descobrir o tamanho de uma lista por meio da função len().\n",
    " \n",
    "### Na prática, ela recebe o nome atribuído à variável do tipo lista como parâmetro e retorna a quantidade de elementos existentes."
   ]
  },
  {
   "cell_type": "code",
   "execution_count": 6,
   "metadata": {},
   "outputs": [
    {
     "data": {
      "text/plain": [
       "4"
      ]
     },
     "execution_count": 6,
     "metadata": {},
     "output_type": "execute_result"
    }
   ],
   "source": [
    "suaLista = list(range(1,5))\n",
    "\n",
    "suaLista [1] = 'Troquei a posição 1 da lista'\n",
    "len(suaLista)\n",
    "\n"
   ]
  },
  {
   "cell_type": "markdown",
   "metadata": {},
   "source": [
    "### Acesso aos elementos de uma lista"
   ]
  },
  {
   "cell_type": "code",
   "execution_count": 36,
   "metadata": {},
   "outputs": [
    {
     "name": "stdout",
     "output_type": "stream",
     "text": [
      "1\n",
      "Troquei a posição 1 da lista\n",
      "3\n",
      "4\n"
     ]
    }
   ],
   "source": [
    "i = 0\n",
    "\n",
    "while i < 4:\n",
    "    print(suaLista[i])\n",
    "    i = i + 1"
   ]
  },
  {
   "cell_type": "markdown",
   "metadata": {},
   "source": [
    "### Adicionar elementos em uma lista\n",
    "### Uma das maiores vantagens da utilização de listas é a possibilidade de adicionar elementos durante a execução do programa.\n",
    "### Na prática o programador não precisa se preocupar com a quantidade de variáveis para os alunos da turma (lembra desse problema?)"
   ]
  },
  {
   "cell_type": "code",
   "execution_count": 26,
   "metadata": {},
   "outputs": [
    {
     "name": "stdout",
     "output_type": "stream",
     "text": [
      "Carlos\n",
      "João\n",
      "Franciele\n",
      "Paula\n"
     ]
    }
   ],
   "source": [
    "umaLista = []\n",
    "\n",
    "umaLista.append('Carlos')\n",
    "umaLista.append('João')\n",
    "umaLista.append('Franciele')\n",
    "umaLista.append('Paula')\n",
    "umaLista.append('Janete')\n",
    "\n",
    "i = 0\n",
    "\n",
    "while i < 4:\n",
    "    print(umaLista[i])\n",
    "    i = i + 1"
   ]
  },
  {
   "cell_type": "markdown",
   "metadata": {},
   "source": [
    "### Remover elementos de uma lista\n",
    "\n",
    "### Para remover elementos de uma lista há 3 métodos:\n",
    "### del: Apaga o elemento da lista"
   ]
  },
  {
   "cell_type": "code",
   "execution_count": 8,
   "metadata": {},
   "outputs": [
    {
     "name": "stdout",
     "output_type": "stream",
     "text": [
      "1\n",
      "2\n",
      "4\n"
     ]
    }
   ],
   "source": [
    "suaLista = list(range(1,5))\n",
    "del suaLista [2]\n",
    "\n",
    "i = 0\n",
    "\n",
    "while i < len(suaLista):\n",
    "    print(suaLista[i])\n",
    "    i = i + 1"
   ]
  },
  {
   "cell_type": "markdown",
   "metadata": {},
   "source": [
    "### Remover elementos de uma lista\n",
    "\n",
    "### pop(): Apaga o elemento da lista e retorna o elemento removido."
   ]
  },
  {
   "cell_type": "code",
   "execution_count": 9,
   "metadata": {},
   "outputs": [
    {
     "name": "stdout",
     "output_type": "stream",
     "text": [
      "Removido: 2\n",
      "1\n",
      "3\n",
      "4\n"
     ]
    }
   ],
   "source": [
    "suaLista = list(range(1,5))\n",
    "\n",
    "elementoRemovido = suaLista.pop(1)\n",
    "print(f\"Removido: {elementoRemovido}\")\n",
    "\n",
    "i = 0\n",
    "\n",
    "while i < len(suaLista): # Percorrendo lista com while\n",
    "    print(suaLista[i])\n",
    "    i = i + 1"
   ]
  },
  {
   "cell_type": "markdown",
   "metadata": {},
   "source": [
    "### Percorrendo listas com o for"
   ]
  },
  {
   "cell_type": "code",
   "execution_count": 10,
   "metadata": {},
   "outputs": [
    {
     "name": "stdout",
     "output_type": "stream",
     "text": [
      "Removido: 2\n",
      "1\n",
      "3\n",
      "4\n"
     ]
    }
   ],
   "source": [
    "suaLista = list(range(1,5))\n",
    "\n",
    "elementoRemovido = suaLista.pop(1)\n",
    "print(f\"Removido: {elementoRemovido}\")\n",
    "\n",
    "for elemento in suaLista: # Percorrendo lista com for\n",
    "    print(elemento)"
   ]
  },
  {
   "cell_type": "markdown",
   "metadata": {},
   "source": [
    "### lista.insert(índice,dado) insere na lista o dado antes da posição índice."
   ]
  },
  {
   "cell_type": "code",
   "execution_count": 20,
   "metadata": {},
   "outputs": [
    {
     "name": "stdout",
     "output_type": "stream",
     "text": [
      "[40, 99, 30, 10, 20]\n"
     ]
    }
   ],
   "source": [
    "x = [40, 30, 10, 20]\n",
    "x.insert(1,99)\n",
    "print(x)"
   ]
  },
  {
   "cell_type": "markdown",
   "metadata": {},
   "source": [
    "### lista.remove()"
   ]
  },
  {
   "cell_type": "code",
   "execution_count": 21,
   "metadata": {},
   "outputs": [
    {
     "name": "stdout",
     "output_type": "stream",
     "text": [
      "[40, 99, 20]\n"
     ]
    }
   ],
   "source": [
    "x = [40, 99, 10, 20]\n",
    "x.remove(10)\n",
    "print(x)"
   ]
  },
  {
   "cell_type": "markdown",
   "metadata": {},
   "source": [
    "### lista.count()"
   ]
  },
  {
   "cell_type": "code",
   "execution_count": 22,
   "metadata": {},
   "outputs": [
    {
     "name": "stdout",
     "output_type": "stream",
     "text": [
      "2\n"
     ]
    }
   ],
   "source": [
    "x = [40, 99, 10, 20, 13, 20, 14]\n",
    "N = x.count(20)\n",
    "print(N)"
   ]
  },
  {
   "cell_type": "markdown",
   "metadata": {},
   "source": [
    "### lista.clear()"
   ]
  },
  {
   "cell_type": "code",
   "execution_count": 25,
   "metadata": {},
   "outputs": [
    {
     "name": "stdout",
     "output_type": "stream",
     "text": [
      "[]\n"
     ]
    }
   ],
   "source": [
    "food = ['pasta','pizza','lasanha']\n",
    "food.clear()\n",
    "\n",
    "print(food)"
   ]
  },
  {
   "cell_type": "markdown",
   "metadata": {},
   "source": [
    "### lista.sort()"
   ]
  },
  {
   "cell_type": "code",
   "execution_count": 27,
   "metadata": {},
   "outputs": [
    {
     "name": "stdout",
     "output_type": "stream",
     "text": [
      "['lasanha', 'pasta', 'pizza']\n"
     ]
    }
   ],
   "source": [
    "food = ['pasta','pizza','lasanha']\n",
    "food.sort()\n",
    "\n",
    "print(food)"
   ]
  },
  {
   "cell_type": "markdown",
   "metadata": {},
   "source": [
    "### lista.reverse()"
   ]
  },
  {
   "cell_type": "code",
   "execution_count": 28,
   "metadata": {},
   "outputs": [
    {
     "name": "stdout",
     "output_type": "stream",
     "text": [
      "['lasanha', 'pizza', 'pasta']\n"
     ]
    }
   ],
   "source": [
    "food = ['pasta','pizza','lasanha']\n",
    "food.reverse()\n",
    "\n",
    "print(food)"
   ]
  }
 ],
 "metadata": {
  "kernelspec": {
   "display_name": "Python 3",
   "language": "python",
   "name": "python3"
  },
  "language_info": {
   "codemirror_mode": {
    "name": "ipython",
    "version": 3
   },
   "file_extension": ".py",
   "mimetype": "text/x-python",
   "name": "python",
   "nbconvert_exporter": "python",
   "pygments_lexer": "ipython3",
   "version": "3.13.2"
  }
 },
 "nbformat": 4,
 "nbformat_minor": 2
}

{
 "cells": [
  {
   "cell_type": "markdown",
   "metadata": {},
   "source": [
    "# **Fluxos de Controle em Python**\n",
    "\n",
    "- Estrutura de repetição **while**\n",
    "- Estrutura de repetição **for ... in**"
   ]
  },
  {
   "cell_type": "markdown",
   "metadata": {},
   "source": [
    "# Estrutura de repetição While"
   ]
  },
  {
   "cell_type": "code",
   "execution_count": 14,
   "metadata": {},
   "outputs": [
    {
     "name": "stdout",
     "output_type": "stream",
     "text": [
      "1\n",
      "2\n",
      "3\n"
     ]
    }
   ],
   "source": [
    "n = 1\n",
    "\n",
    "while n <= 3:\n",
    "    print(n)\n",
    "    n += 1"
   ]
  },
  {
   "cell_type": "markdown",
   "metadata": {},
   "source": [
    "### Modifique o programa anterior para exibir os números de 1 a 100."
   ]
  },
  {
   "cell_type": "code",
   "execution_count": null,
   "metadata": {},
   "outputs": [
    {
     "name": "stdout",
     "output_type": "stream",
     "text": [
      "1\n",
      "2\n",
      "3\n",
      "4\n",
      "5\n",
      "6\n",
      "7\n",
      "8\n",
      "9\n",
      "10\n",
      "11\n",
      "12\n",
      "13\n",
      "14\n",
      "15\n",
      "16\n",
      "17\n",
      "18\n",
      "19\n",
      "20\n",
      "21\n",
      "22\n",
      "23\n",
      "24\n",
      "25\n",
      "26\n",
      "27\n",
      "28\n",
      "29\n",
      "30\n",
      "31\n",
      "32\n",
      "33\n",
      "34\n",
      "35\n",
      "36\n",
      "37\n",
      "38\n",
      "39\n",
      "40\n",
      "41\n",
      "42\n",
      "43\n",
      "44\n",
      "45\n",
      "46\n",
      "47\n",
      "48\n",
      "49\n",
      "50\n",
      "51\n",
      "52\n",
      "53\n",
      "54\n",
      "55\n",
      "56\n",
      "57\n",
      "58\n",
      "59\n",
      "60\n",
      "61\n",
      "62\n",
      "63\n",
      "64\n",
      "65\n",
      "66\n",
      "67\n",
      "68\n",
      "69\n",
      "70\n",
      "71\n",
      "72\n",
      "73\n",
      "74\n",
      "75\n",
      "76\n",
      "77\n",
      "78\n",
      "79\n",
      "80\n",
      "81\n",
      "82\n",
      "83\n",
      "84\n",
      "85\n",
      "86\n",
      "87\n",
      "88\n",
      "89\n",
      "90\n",
      "91\n",
      "92\n",
      "93\n",
      "94\n",
      "95\n",
      "96\n",
      "97\n",
      "98\n",
      "99\n",
      "100\n"
     ]
    }
   ],
   "source": [
    "m = 1\n",
    "\n",
    "while m <= 100:\n",
    "    print(m)\n",
    "    m += 1"
   ]
  },
  {
   "cell_type": "markdown",
   "metadata": {},
   "source": [
    "### Modifique o programa anterior para imprimir de 1 até o número digitado pelo usuário."
   ]
  },
  {
   "cell_type": "code",
   "execution_count": null,
   "metadata": {},
   "outputs": [
    {
     "name": "stdout",
     "output_type": "stream",
     "text": [
      "1\n",
      "2\n",
      "3\n",
      "4\n",
      "5\n",
      "6\n",
      "7\n",
      "8\n"
     ]
    }
   ],
   "source": [
    "inicio = 1\n",
    "fim = int(input(\"Digite um número inteiro: \"))\n",
    "\n",
    "while inicio <= fim:\n",
    "    print(inicio)\n",
    "    inicio += 1"
   ]
  },
  {
   "cell_type": "markdown",
   "metadata": {},
   "source": [
    "### Modifique o programa anterior para imprimir de 1 até o número digitado pelo usuário, mas que apresente apenas os números ímpares."
   ]
  },
  {
   "cell_type": "code",
   "execution_count": null,
   "metadata": {},
   "outputs": [
    {
     "name": "stdout",
     "output_type": "stream",
     "text": [
      "1\n",
      "3\n",
      "5\n",
      "7\n",
      "9\n",
      "11\n",
      "13\n",
      "15\n",
      "17\n",
      "19\n"
     ]
    }
   ],
   "source": [
    "inicio2 = 1\n",
    "fim2 = int(input(\"Digite um número inteiro: \"))\n",
    "\n",
    "while inicio2 <= fim2:\n",
    "    if inicio2 % 2 != 0:\n",
    "        print(inicio2)\n",
    "    inicio2 += 1"
   ]
  },
  {
   "cell_type": "markdown",
   "metadata": {},
   "source": [
    "### Fazer um programa para exibir os resultados no formato de tabuada de multiplicação: 3x1=3, 3x2=6,..."
   ]
  },
  {
   "cell_type": "code",
   "execution_count": 4,
   "metadata": {},
   "outputs": [
    {
     "name": "stdout",
     "output_type": "stream",
     "text": [
      "3x1 = 3\n",
      "3x2 = 6\n",
      "3x3 = 9\n",
      "3x4 = 12\n",
      "3x5 = 15\n",
      "3x6 = 18\n",
      "3x7 = 21\n",
      "3x8 = 24\n",
      "3x9 = 27\n",
      "3x10 = 30\n"
     ]
    }
   ],
   "source": [
    "inicio3 = 3\n",
    "fim3 = inicio3 * 10\n",
    "contador3 = 1\n",
    "\n",
    "while inicio3 <= fim3:\n",
    "    if inicio3 % 3 == 0:\n",
    "        print(f\"3x{contador3} = {inicio3}\")\n",
    "        contador3 += 1\n",
    "    inicio3 += 1"
   ]
  },
  {
   "cell_type": "markdown",
   "metadata": {},
   "source": [
    "### Fazer um programa que o usuário insira o início e o fim da tabuada, em vez de começar de 1 a 10."
   ]
  },
  {
   "cell_type": "code",
   "execution_count": 33,
   "metadata": {},
   "outputs": [
    {
     "name": "stdout",
     "output_type": "stream",
     "text": [
      "10x1 = 10\n",
      "10x2 = 20\n",
      "10x3 = 30\n",
      "10x4 = 40\n",
      "10x5 = 50\n",
      "10x6 = 60\n",
      "10x7 = 70\n",
      "10x8 = 80\n",
      "10x9 = 90\n",
      "10x10 = 100\n"
     ]
    }
   ],
   "source": [
    "tabuada4 = int(input(\"Tabuada do número: \"))\n",
    "inicio4 = int(input(\"Começa no número: \"))\n",
    "fim4 = int(input(\"E vai até o número: \"))\n",
    "\n",
    "while inicio4 <= fim4:\n",
    "    print(f\"{tabuada4}x{inicio4} = {tabuada4 * inicio4}\")\n",
    "    inicio4 += 1"
   ]
  },
  {
   "cell_type": "markdown",
   "metadata": {},
   "source": [
    "### Vejamos um programa para corrigir um teste de múltipla escolha, com 3 questões. A resposta da primeira é \"b\", da segunda \"a\" e da terceira \"d\". O programa conta um ponto para cada resposta correta."
   ]
  },
  {
   "cell_type": "code",
   "execution_count": 5,
   "metadata": {},
   "outputs": [
    {
     "name": "stdout",
     "output_type": "stream",
     "text": [
      "O aluno fez 0 pontos\n"
     ]
    }
   ],
   "source": [
    "pontos = 0\n",
    "questao = 1\n",
    "\n",
    "while questao <= 3:\n",
    "    resposta = input(f\"Resposta da Questão {questao}\")\n",
    "    if questao == 1 and resposta == \"b\":\n",
    "        pontos += 1\n",
    "    if questao == 2 and resposta == \"a\":\n",
    "        pontos += 1\n",
    "    if questao == 3 and resposta == \"d\":\n",
    "        pontos += 1\n",
    "    \n",
    "    questao += 1\n",
    "\n",
    "print(f\"O aluno fez {pontos} pontos\")"
   ]
  },
  {
   "cell_type": "markdown",
   "metadata": {},
   "source": [
    "### Vejamos um programa para corrigir um teste de múltipla escolha, com 3 questões. A resposta da primeira é \"b\", da segunda \"a\" e da terceira \"d\". O programa conta um ponto para cada resposta correta. **OBS: Considerar entradas de letras maiúsculas**"
   ]
  },
  {
   "cell_type": "code",
   "execution_count": 7,
   "metadata": {},
   "outputs": [
    {
     "name": "stdout",
     "output_type": "stream",
     "text": [
      "O Aluno fez 3 pontos\n"
     ]
    }
   ],
   "source": [
    "pontos2 = 0\n",
    "questao2 = 1\n",
    "\n",
    "while questao2 <= 3:\n",
    "    resposta2 = input(f\"Resposta da Questão {questao2}\")\n",
    "    if questao2 == 1 and (resposta2 == \"b\" or resposta2 == \"B\"):\n",
    "        pontos2 += 1\n",
    "    if questao2 == 2 and (resposta2 == \"a\" or resposta2 == \"A\"):\n",
    "        pontos2 += 1\n",
    "    if questao2 == 3 and (resposta2 == \"d\" or resposta2 == \"D\"):\n",
    "        pontos2 += 1\n",
    "    \n",
    "    questao2 += 1\n",
    "\n",
    "print(f\"O Aluno fez {pontos2} pontos\")"
   ]
  },
  {
   "cell_type": "markdown",
   "metadata": {},
   "source": [
    "### Calcular a média usando laços de repetição. Entrada de 4 notas."
   ]
  },
  {
   "cell_type": "code",
   "execution_count": 18,
   "metadata": {},
   "outputs": [
    {
     "name": "stdout",
     "output_type": "stream",
     "text": [
      "A média do aluno é: 8.75\n"
     ]
    }
   ],
   "source": [
    "contador_notas = 1\n",
    "soma_notas = 0\n",
    "\n",
    "while contador_notas <= 4:\n",
    "    nota = float(input(f\"Digite a {contador_notas}a nota: \"))\n",
    "    soma_notas += nota\n",
    "    contador_notas += 1\n",
    "\n",
    "print(f\"A média do aluno é: {soma_notas / 4:.2f}\")"
   ]
  },
  {
   "cell_type": "markdown",
   "metadata": {},
   "source": [
    "# Estrutura de Repetição **for...in**"
   ]
  },
  {
   "cell_type": "code",
   "execution_count": 26,
   "metadata": {},
   "outputs": [
    {
     "name": "stdout",
     "output_type": "stream",
     "text": [
      "1\n",
      "2\n",
      "3\n",
      "4\n",
      "5\n",
      "6\n",
      "7\n",
      "8\n",
      "9\n",
      "O loop acabou\n"
     ]
    }
   ],
   "source": [
    "import time\n",
    "\n",
    "for i in range(1, 10):\n",
    "    print(i)\n",
    "    time.sleep(2)\n",
    "print(\"O loop acabou\")"
   ]
  },
  {
   "cell_type": "markdown",
   "metadata": {},
   "source": [
    "### Fazer uma tabuada usando for."
   ]
  },
  {
   "cell_type": "code",
   "execution_count": 40,
   "metadata": {},
   "outputs": [
    {
     "name": "stdout",
     "output_type": "stream",
     "text": [
      "Tabuada do número 9\n",
      "9x1 = 9\n",
      "9x2 = 18\n",
      "9x3 = 27\n",
      "9x4 = 36\n",
      "9x5 = 45\n",
      "9x6 = 54\n",
      "9x7 = 63\n",
      "9x8 = 72\n",
      "9x9 = 81\n",
      "9x10 = 90\n"
     ]
    }
   ],
   "source": [
    "tabuada2 = int(input(\"Tabuada do número: \"))\n",
    "\n",
    "print(f\"Tabuada do número {tabuada2}\")\n",
    "\n",
    "for contador_tabuada in range(1, 11):\n",
    "    print(f\"{tabuada2}x{contador_tabuada} = {tabuada2 * contador_tabuada}\")"
   ]
  },
  {
   "cell_type": "markdown",
   "metadata": {},
   "source": [
    "### Fazer um programa pra contar quantas letras A e quantas letras R tem na cidade informada."
   ]
  },
  {
   "cell_type": "code",
   "execution_count": 49,
   "metadata": {},
   "outputs": [
    {
     "name": "stdout",
     "output_type": "stream",
     "text": [
      "A cidade Buenos Aires tem 1 letras \"A\"\n",
      "A cidade Buenos Aires tem 1 letras \"R\"\n"
     ]
    }
   ],
   "source": [
    "cidade = input(\"Digite uma cidade: \")\n",
    "contador_A = 0\n",
    "contador_R = 0\n",
    "\n",
    "for letra in cidade:\n",
    "    if letra == \"a\" or letra == \"A\":\n",
    "        contador_A += 1\n",
    "    if letra == \"r\" or letra == \"R\":\n",
    "        contador_R += 1\n",
    "\n",
    "print(f'A cidade {cidade} tem {contador_A} letras \"A\"')\n",
    "print(f'A cidade {cidade} tem {contador_R} letras \"R\"')"
   ]
  }
 ],
 "metadata": {
  "kernelspec": {
   "display_name": "Python 3",
   "language": "python",
   "name": "python3"
  },
  "language_info": {
   "codemirror_mode": {
    "name": "ipython",
    "version": 3
   },
   "file_extension": ".py",
   "mimetype": "text/x-python",
   "name": "python",
   "nbconvert_exporter": "python",
   "pygments_lexer": "ipython3",
   "version": "3.13.2"
  }
 },
 "nbformat": 4,
 "nbformat_minor": 2
}

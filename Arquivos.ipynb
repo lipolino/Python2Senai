{
 "cells": [
  {
   "cell_type": "markdown",
   "metadata": {},
   "source": [
    "# Escrever em arquivos"
   ]
  },
  {
   "cell_type": "markdown",
   "metadata": {},
   "source": [
    "Comando para ler / escrever em arquivos\n",
    "\n",
    "```python\n",
    "with open(file='caminho do arquivo', mode='modo de leitura/escrita', encoding='decodificador') as apelido:\n",
    "    bloco de codigo\n",
    "```"
   ]
  },
  {
   "cell_type": "markdown",
   "metadata": {},
   "source": [
    "Modos de abetura de Arquivos\n",
    "\n",
    "- w: Abrir o arquivo para escrita (sobrescreve o arquivo original)\n",
    "- r: Abrir o arquivo para leitura (padrão)\n",
    "- a: Abrir o arquivo para acrescentar (não sobrescreve o arquivo original)\n"
   ]
  },
  {
   "cell_type": "markdown",
   "metadata": {},
   "source": [
    "## Modo Escrita (w)\n",
    "\n",
    "Comando para escrever conteúdos em um arquivo."
   ]
  },
  {
   "cell_type": "code",
   "execution_count": 22,
   "metadata": {},
   "outputs": [
    {
     "name": "stdout",
     "output_type": "stream",
     "text": [
      "Conteúdo escrito com sucesso em teste.txt\n"
     ]
    }
   ],
   "source": [
    "nome_arquivo = 'teste.txt'\n",
    "\n",
    "with open(file=nome_arquivo, mode='w', encoding='utf8') as arquivo:\n",
    "    print(f'Estou testando a escrita de um arquivo de texto', file=arquivo)\n",
    "\n",
    "    print(f'Conteúdo escrito com sucesso em {nome_arquivo}')"
   ]
  },
  {
   "cell_type": "markdown",
   "metadata": {},
   "source": [
    "### Fazer um documento com minhas informações pessoais (nome, idade, profissão, cidade). E salvar o arquivo com nome \"sobremim.txt\""
   ]
  },
  {
   "cell_type": "code",
   "execution_count": 12,
   "metadata": {},
   "outputs": [
    {
     "name": "stdout",
     "output_type": "stream",
     "text": [
      "Conteúdo escrito com sucesso em sobremim.txt\n"
     ]
    }
   ],
   "source": [
    "nome_arquivo = 'sobremim.txt'\n",
    "nome_pessoa = 'Felipe'\n",
    "idade_pessoa = 36\n",
    "profissao = 'Estudante'\n",
    "cidade = 'Mairinque'\n",
    "\n",
    "\n",
    "with open(file=nome_arquivo, mode='w', encoding='utf8') as arquivo:\n",
    "    print(f\"\"\"Informações sobre mim: \n",
    "      {nome_pessoa}\n",
    "      {idade_pessoa}\n",
    "      {profissao}\n",
    "      {cidade}\"\"\", file=arquivo)\n",
    "\n",
    "    print(f'Conteúdo escrito com sucesso em {nome_arquivo}')"
   ]
  },
  {
   "cell_type": "markdown",
   "metadata": {},
   "source": [
    "## Modo Leitura (r)\n",
    "\n",
    "Comando para leitura de conteúdo."
   ]
  },
  {
   "cell_type": "code",
   "execution_count": 23,
   "metadata": {},
   "outputs": [
    {
     "name": "stdout",
     "output_type": "stream",
     "text": [
      "Estou testando a escrita de um arquivo de texto\n",
      "\n"
     ]
    }
   ],
   "source": [
    "conteudo = None\n",
    "\n",
    "with open(file='C:\\\\Users\\\\Aluno\\\\Desktop\\\\Felipe\\\\teste.txt', mode='r', encoding='utf8') as arquivo:\n",
    "    conteudo = arquivo.read()\n",
    "\n",
    "print(conteudo)"
   ]
  },
  {
   "cell_type": "markdown",
   "metadata": {},
   "source": [
    "## Modo Leitura (a)\n",
    "\n",
    "Comando para acrescentar conteúdo."
   ]
  },
  {
   "cell_type": "code",
   "execution_count": 25,
   "metadata": {},
   "outputs": [
    {
     "name": "stdout",
     "output_type": "stream",
     "text": [
      "Conteúdo escrito com sucesso em teste.txt\n"
     ]
    }
   ],
   "source": [
    "nome_arquivo = 'teste.txt'\n",
    "\n",
    "with open(file=nome_arquivo, mode='a', encoding='utf8') as arquivo:\n",
    "    print(f'Estou adicionando uma linha de texto', file=arquivo)\n",
    "\n",
    "    print(f'Conteúdo escrito com sucesso em {nome_arquivo}')"
   ]
  }
 ],
 "metadata": {
  "kernelspec": {
   "display_name": "Python 3",
   "language": "python",
   "name": "python3"
  },
  "language_info": {
   "codemirror_mode": {
    "name": "ipython",
    "version": 3
   },
   "file_extension": ".py",
   "mimetype": "text/x-python",
   "name": "python",
   "nbconvert_exporter": "python",
   "pygments_lexer": "ipython3",
   "version": "3.13.2"
  }
 },
 "nbformat": 4,
 "nbformat_minor": 2
}

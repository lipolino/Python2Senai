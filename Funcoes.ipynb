{
 "cells": [
  {
   "cell_type": "markdown",
   "id": "7eedd3f8",
   "metadata": {},
   "source": [
    "# Funções"
   ]
  },
  {
   "cell_type": "code",
   "execution_count": 2,
   "id": "adb42144",
   "metadata": {},
   "outputs": [
    {
     "name": "stdout",
     "output_type": "stream",
     "text": [
      "Em Python, funções são blocos de código reutilizáveis que executam uma tarefa específica. \n",
      "Elas são definidas usando a palavra-chave 'def', podem receber argumentos e retornar valores. \n",
      "Funções ajudam a organizar o código, evitar repetição e facilitar a manutenção.\n"
     ]
    }
   ],
   "source": [
    "print(\"\"\"Em Python, funções são blocos de código reutilizáveis que executam uma tarefa específica. \n",
    "Elas são definidas usando a palavra-chave 'def', podem receber argumentos e retornar valores. \n",
    "Funções ajudam a organizar o código, evitar repetição e facilitar a manutenção.\"\"\")"
   ]
  },
  {
   "cell_type": "markdown",
   "id": "cda94b2c",
   "metadata": {},
   "source": [
    "### Funções prontas para uso do Python\n",
    "\n",
    "- Como sabemos, o Python possui uma variedade de funções prontas para diversos usos.\n",
    "\n",
    "#### Funções para manipular strings\n",
    "\n",
    "**count()**\n",
    "\n",
    "- Contabiliza a quantidade de ocorrências de um texto/caracteres em uma string. Sintaxe:\n",
    "\n",
    "``` resultado = variavel_string.count(caracteres/texto) ```"
   ]
  },
  {
   "cell_type": "code",
   "execution_count": 31,
   "id": "36bb9325",
   "metadata": {},
   "outputs": [
    {
     "name": "stdout",
     "output_type": "stream",
     "text": [
      "A letra 'o' aparece 1 vezes no texto 'Olá Mundo!'.\n",
      "A letra 'o' aparece 1 vezes no texto 'Olá Mundo!' a partir do índice 'M'.\n"
     ]
    }
   ],
   "source": [
    "texto = 'Olá Mundo!'\n",
    "ocorrencias_count = texto.count('o')\n",
    "# Ocorrencias_count é o número total de ocorrências da letra 'o' no texto 'Olá Mundo!'.\n",
    "ocorrencias_index = texto.index('M')\n",
    "# Ocorrencias_index é o índice da letra 'M' no texto 'Olá Mundo!'.\n",
    "ocorrencias_count = texto.count('o', ocorrencias_index)\n",
    "# Ocorrencias_count é o número de ocorrências da letra 'o' no texto a partir do índice da letra 'M'.\n",
    "\n",
    "print(f\"A letra 'o' aparece {ocorrencias_count} vezes no texto '{texto}'.\")\n",
    "print(f\"A letra 'o' aparece {ocorrencias_count} vezes no texto '{texto}' a partir do índice 'M'.\")"
   ]
  },
  {
   "cell_type": "markdown",
   "id": "360c48dc",
   "metadata": {},
   "source": [
    "# Funções Matemáticas\n",
    "\n",
    "Algumas operações matemáticas podem ser realizadas facilmente com o Python.\n",
    "Nesse caso é preciso escrever a instrução `import math` em nosso código."
   ]
  },
  {
   "cell_type": "code",
   "execution_count": 16,
   "id": "9f59dc6c",
   "metadata": {},
   "outputs": [
    {
     "name": "stdout",
     "output_type": "stream",
     "text": [
      "4.0\n",
      "3.141592653589793\n",
      "4\n",
      "3\n"
     ]
    }
   ],
   "source": [
    "import math #Funções matemáticas\n",
    "\n",
    "print(math.sqrt(16)) #Raiz quadrada de 16\n",
    "print(math.pi) #Valor de pi\n",
    "print(math.ceil(3.6)) #Arredondamento pra cima\n",
    "print(math.floor(3.6)) #Arredondamento pra baixo"
   ]
  },
  {
   "cell_type": "markdown",
   "id": "426235e7",
   "metadata": {},
   "source": [
    "# Bibliotecas\n",
    "\n",
    "Uma biblioteca Python é uma coleção de módulos e pacotes, que contem funcionalidades prontas para o uso, que facilitam o desenvolvimento de programas.\n",
    "Exemplo: numpy, pandas, matplotlib, selenium, etc...\n",
    "\n",
    "Vamos testar a biblioteca chamada Faker, onde iremos utilizar o PIP (Python Installer Package) que é uma ferramenta de linha de comando que facilita a instalação de bibliotecas externas do Python."
   ]
  },
  {
   "cell_type": "code",
   "execution_count": 17,
   "id": "1e1e0871",
   "metadata": {},
   "outputs": [
    {
     "name": "stdout",
     "output_type": "stream",
     "text": [
      "Collecting Faker\n",
      "  Downloading faker-37.5.3-py3-none-any.whl.metadata (15 kB)\n",
      "Collecting tzdata (from Faker)\n",
      "  Downloading tzdata-2025.2-py2.py3-none-any.whl.metadata (1.4 kB)\n",
      "Downloading faker-37.5.3-py3-none-any.whl (1.9 MB)\n",
      "   ---------------------------------------- 0.0/1.9 MB ? eta -:--:--\n",
      "   ---------------------------------------- 0.0/1.9 MB ? eta -:--:--\n",
      "   ---------- ----------------------------- 0.5/1.9 MB 1.4 MB/s eta 0:00:02\n",
      "   ---------- ----------------------------- 0.5/1.9 MB 1.4 MB/s eta 0:00:02\n",
      "   ---------------- ----------------------- 0.8/1.9 MB 1.2 MB/s eta 0:00:01\n",
      "   -------------------------- ------------- 1.3/1.9 MB 1.2 MB/s eta 0:00:01\n",
      "   -------------------------------- ------- 1.6/1.9 MB 1.3 MB/s eta 0:00:01\n",
      "   ---------------------------------------- 1.9/1.9 MB 1.4 MB/s eta 0:00:00\n",
      "Downloading tzdata-2025.2-py2.py3-none-any.whl (347 kB)\n",
      "Installing collected packages: tzdata, Faker\n",
      "Successfully installed Faker-37.5.3 tzdata-2025.2\n"
     ]
    },
    {
     "name": "stderr",
     "output_type": "stream",
     "text": [
      "\n",
      "[notice] A new release of pip is available: 25.0.1 -> 25.2\n",
      "[notice] To update, run: python.exe -m pip install --upgrade pip\n"
     ]
    }
   ],
   "source": [
    "! pip install Faker"
   ]
  },
  {
   "cell_type": "code",
   "execution_count": 42,
   "id": "509f76da",
   "metadata": {},
   "outputs": [
    {
     "name": "stdout",
     "output_type": "stream",
     "text": [
      "Raul Marques\n",
      "Santos - MG\n",
      "Praça Natália Camargo, 811\n",
      "03534-322\n",
      "----------------------------------------\n",
      "Luiz Felipe Freitas\n",
      "Costela das Flores - PB\n",
      "Parque Lorenzo Rezende, 3\n",
      "96292320\n",
      "----------------------------------------\n",
      "Isabela Machado\n",
      "Cardoso da Prata - SP\n",
      "Feira de Silva\n",
      "95858-576\n",
      "----------------------------------------\n",
      "Carlos Eduardo da Rosa\n",
      "da Cunha de Goiás - TO\n",
      "Praça de Vargas, 579\n",
      "09520410\n",
      "----------------------------------------\n",
      "Hellena das Neves\n",
      "Rezende - SE\n",
      "Travessa de Fogaça, 17\n",
      "73819306\n",
      "----------------------------------------\n"
     ]
    }
   ],
   "source": [
    "import faker as apelido\n",
    "\n",
    "falso_dado = apelido.Faker('pt_BR')\n",
    "\n",
    "apelido.Faker.seed(100)  # Para garantir resultados consistentes\n",
    "\n",
    "for i in range(5):\n",
    "    print(falso_dado.name())\n",
    "    print(falso_dado.city(),\"-\", falso_dado.estado_sigla())\n",
    "    print(falso_dado.street_address())\n",
    "    print(falso_dado.postcode())\n",
    "    print(\"-\" * 40)\n"
   ]
  },
  {
   "cell_type": "markdown",
   "id": "69944df8",
   "metadata": {},
   "source": [
    "### Definição de Função\n",
    "\n",
    "Um bloco de código que só é executado quando chamado\n",
    "\n",
    "```python\n",
    "\n",
    "def nome (parametro1, parametro2, parametrosX, ....):\n",
    "    bloco de código\n",
    "    return\n",
    "\n",
    "variavel = nome_função(parametro1, parametro2, parametrosX, ....)"
   ]
  },
  {
   "cell_type": "code",
   "execution_count": 74,
   "id": "5fcc946b",
   "metadata": {},
   "outputs": [],
   "source": [
    "def soma(a, b): #soma(1,2)\n",
    "    print(a + b)\n",
    "\n",
    "def subtracao(a, b): #subtracao(1,2)\n",
    "    print(a - b)\n",
    "\n",
    "def multiplicacao(a, b): #multiplicacao(1,2)\n",
    "    print(a * b)\n",
    "\n",
    "def divisao(a, b): #divisao(1,2)\n",
    "    print(a / b)\n",
    "\n",
    "def par(numero): #verifica se o número é par\n",
    "    return numero % 2 == 0\n",
    "\n",
    "def par_ou_impar(numero):\n",
    "    if par(numero):\n",
    "        return f'O número {numero} é par.'\n",
    "    else:\n",
    "        return f'O número {numero} é ímpar.'"
   ]
  },
  {
   "cell_type": "code",
   "execution_count": 63,
   "id": "b1486a17",
   "metadata": {},
   "outputs": [
    {
     "name": "stdout",
     "output_type": "stream",
     "text": [
      "150\n",
      "90\n",
      "3600\n",
      "4.0\n",
      "O número informado é par? False\n",
      "O número 6 é par.\n"
     ]
    }
   ],
   "source": [
    "soma(120, 30)\n",
    "subtracao(120, 30)\n",
    "multiplicacao(120, 30)\n",
    "divisao(120, 30)\n",
    "print('O número informado é par?', par(5))\n",
    "par_ou_impar(5)\n",
    "\n",
    "valor = int(input(\"Digite um número: \"))\n",
    "print(par_ou_impar(valor))"
   ]
  },
  {
   "cell_type": "markdown",
   "id": "50b7b830",
   "metadata": {},
   "source": [
    "### Escreva uma função que retorne o maior valor entre dois números:\n",
    "\n",
    "maximo(5,6)"
   ]
  },
  {
   "cell_type": "code",
   "execution_count": 72,
   "id": "3a9705b8",
   "metadata": {},
   "outputs": [
    {
     "data": {
      "text/plain": [
       "'O maior valor entre 5 e 6 é: 6'"
      ]
     },
     "execution_count": 72,
     "metadata": {},
     "output_type": "execute_result"
    }
   ],
   "source": [
    "def maximo(a, b):\n",
    "    if a > b:\n",
    "        return(f'O maior valor entre {a} e {b} é: {a}')\n",
    "    elif a < b:\n",
    "        return(f'O maior valor entre {a} e {b} é: {b}')\n",
    "    else:\n",
    "        return('Os valores são iguais!')\n",
    "\n",
    "maximo(5, 6)"
   ]
  },
  {
   "cell_type": "code",
   "execution_count": 73,
   "id": "d6c82357",
   "metadata": {},
   "outputs": [
    {
     "data": {
      "text/plain": [
       "'A área do triângulo com base 5 e altura 10 é: 25.0'"
      ]
     },
     "execution_count": 73,
     "metadata": {},
     "output_type": "execute_result"
    }
   ],
   "source": [
    "def area_triangulo(base, altura):\n",
    "    area = (base*altura) / 2\n",
    "    return(f'A área do triângulo com base {base} e altura {altura} é: {area}')\n",
    "\n",
    "area_triangulo(5, 10)"
   ]
  }
 ],
 "metadata": {
  "kernelspec": {
   "display_name": "Python 3",
   "language": "python",
   "name": "python3"
  },
  "language_info": {
   "codemirror_mode": {
    "name": "ipython",
    "version": 3
   },
   "file_extension": ".py",
   "mimetype": "text/x-python",
   "name": "python",
   "nbconvert_exporter": "python",
   "pygments_lexer": "ipython3",
   "version": "3.13.3"
  }
 },
 "nbformat": 4,
 "nbformat_minor": 5
}

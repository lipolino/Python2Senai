{
 "cells": [
  {
   "cell_type": "markdown",
   "metadata": {},
   "source": [
    "# Fatiamento (Slicing)\n",
    "\n",
    "### Uma operação que pode ser realizada com strings"
   ]
  },
  {
   "cell_type": "code",
   "execution_count": 22,
   "metadata": {},
   "outputs": [
    {
     "name": "stdout",
     "output_type": "stream",
     "text": [
      "Letra no indice 12: @\n",
      "Letra no indice -1: r\n",
      "profcleisson\n",
      "prof\n",
      "cleisson\n",
      "br\n"
     ]
    }
   ],
   "source": [
    "# Exemplo utilizando email:\n",
    "\n",
    "email = \"profcleisson@gmail.com.br\"\n",
    "\n",
    "# Pegando o sinal de Arroba\n",
    "print('Letra no indice 12:', email[12])\n",
    "print('Letra no indice -1:', email[-1])\n",
    "\n",
    "#Exibir a palavra 'profcleisson'\n",
    "print(email[0:12])\n",
    "\n",
    "#Exibir a palavra 'prof'\n",
    "print(email[0:4])\n",
    "\n",
    "#Exibir a palavra 'cleisson'\n",
    "print(email[4:12])\n",
    "\n",
    "#Exibir a palavra 'br' usando números negativos\n",
    "print(email[-2:])\n"
   ]
  }
 ],
 "metadata": {
  "kernelspec": {
   "display_name": "Python 3",
   "language": "python",
   "name": "python3"
  },
  "language_info": {
   "codemirror_mode": {
    "name": "ipython",
    "version": 3
   },
   "file_extension": ".py",
   "mimetype": "text/x-python",
   "name": "python",
   "nbconvert_exporter": "python",
   "pygments_lexer": "ipython3",
   "version": "3.13.2"
  }
 },
 "nbformat": 4,
 "nbformat_minor": 2
}

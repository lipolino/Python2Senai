{
 "cells": [
  {
   "cell_type": "markdown",
   "metadata": {},
   "source": [
    "## --> Desafio 1\n",
    "\n",
    "### Crie uma lista chamada 'frutas' que contenha os seguintes elementos: \"maça\",\"banana\",\"laranja\"."
   ]
  },
  {
   "cell_type": "code",
   "execution_count": 1,
   "metadata": {},
   "outputs": [],
   "source": [
    "frutas = [\"maça\", \"banana\", \"laranja\"]"
   ]
  },
  {
   "cell_type": "markdown",
   "metadata": {},
   "source": [
    "## --> Desafio 2 \n",
    "\n",
    "### Acessar o segundo elemento da lista 'frutas' e imprima-o."
   ]
  },
  {
   "cell_type": "code",
   "execution_count": 2,
   "metadata": {},
   "outputs": [
    {
     "name": "stdout",
     "output_type": "stream",
     "text": [
      "banana\n"
     ]
    }
   ],
   "source": [
    "print(frutas[1])"
   ]
  },
  {
   "cell_type": "markdown",
   "metadata": {},
   "source": [
    "## --> Desafio 3\n",
    "\n",
    "### Adicionar elementos à lista."
   ]
  },
  {
   "cell_type": "code",
   "execution_count": 3,
   "metadata": {},
   "outputs": [
    {
     "name": "stdout",
     "output_type": "stream",
     "text": [
      "['maça', 'banana', 'laranja', 'uva']\n"
     ]
    }
   ],
   "source": [
    "frutas.append('uva')\n",
    "\n",
    "print(frutas)"
   ]
  },
  {
   "cell_type": "markdown",
   "metadata": {},
   "source": [
    "## --> Desafio 4\n",
    "\n",
    "### Remover elementos à lista."
   ]
  },
  {
   "cell_type": "code",
   "execution_count": null,
   "metadata": {},
   "outputs": [],
   "source": [
    "lixeira = frutas.pop(1)\n",
    "\n",
    "print(f'Removido: {lixeira}')\n",
    "print(frutas)"
   ]
  },
  {
   "cell_type": "markdown",
   "metadata": {},
   "source": [
    "## --> Desafio 5\n",
    "\n",
    "### Ordene a lista 'frutas' em ordem alfabética."
   ]
  },
  {
   "cell_type": "code",
   "execution_count": 4,
   "metadata": {},
   "outputs": [
    {
     "name": "stdout",
     "output_type": "stream",
     "text": [
      "['banana', 'laranja', 'maça', 'uva']\n"
     ]
    }
   ],
   "source": [
    "frutas.sort()\n",
    "\n",
    "print(frutas)"
   ]
  },
  {
   "cell_type": "markdown",
   "metadata": {},
   "source": [
    "## --> Desafio 6\n",
    "\n",
    "### Inverta a ordem da lista 'frutas'."
   ]
  },
  {
   "cell_type": "code",
   "execution_count": 5,
   "metadata": {},
   "outputs": [
    {
     "name": "stdout",
     "output_type": "stream",
     "text": [
      "['uva', 'maça', 'laranja', 'banana']\n"
     ]
    }
   ],
   "source": [
    "frutas.reverse()\n",
    "\n",
    "print(frutas)"
   ]
  }
 ],
 "metadata": {
  "kernelspec": {
   "display_name": "Python 3",
   "language": "python",
   "name": "python3"
  },
  "language_info": {
   "codemirror_mode": {
    "name": "ipython",
    "version": 3
   },
   "file_extension": ".py",
   "mimetype": "text/x-python",
   "name": "python",
   "nbconvert_exporter": "python",
   "pygments_lexer": "ipython3",
   "version": "3.13.2"
  }
 },
 "nbformat": 4,
 "nbformat_minor": 2
}

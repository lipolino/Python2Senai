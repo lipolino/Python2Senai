{
 "cells": [
  {
   "cell_type": "markdown",
   "metadata": {},
   "source": [
    "## Resolvendo o problema inicial\n",
    "\n",
    "### Construa um programa que registre o nome dos alunos de uma turma. A turma pode variar a quantidade de alunos. O programa deve ler a quantidade de alunos da turma e ler o nome de cada aluno e registrar."
   ]
  },
  {
   "cell_type": "code",
   "execution_count": 15,
   "metadata": {},
   "outputs": [
    {
     "name": "stdout",
     "output_type": "stream",
     "text": [
      "A Turma tem 3 alunos\n",
      "Os alunos são: ['Carlos', 'Felipe', 'Francisco']\n"
     ]
    }
   ],
   "source": [
    "turma = int(input('Digite a quantidade total de alunos da sala: '))\n",
    "\n",
    "cont_aluno = 0\n",
    "\n",
    "listaAluno = []\n",
    "\n",
    "while cont_aluno < turma:\n",
    "    aluno = input('Digite o nome do aluno: ')\n",
    "    listaAluno.append(aluno)\n",
    "    cont_aluno += 1\n",
    "\n",
    "listaAluno.sort()\n",
    "\n",
    "print(f'A Turma tem {turma} alunos')\n",
    "print(f'Os alunos são: {listaAluno}')"
   ]
  }
 ],
 "metadata": {
  "kernelspec": {
   "display_name": "Python 3",
   "language": "python",
   "name": "python3"
  },
  "language_info": {
   "codemirror_mode": {
    "name": "ipython",
    "version": 3
   },
   "file_extension": ".py",
   "mimetype": "text/x-python",
   "name": "python",
   "nbconvert_exporter": "python",
   "pygments_lexer": "ipython3",
   "version": "3.13.2"
  }
 },
 "nbformat": 4,
 "nbformat_minor": 2
}
